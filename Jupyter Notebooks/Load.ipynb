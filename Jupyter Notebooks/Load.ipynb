{
 "metadata": {
  "language_info": {
   "codemirror_mode": {
    "name": "ipython",
    "version": 3
   },
   "file_extension": ".py",
   "mimetype": "text/x-python",
   "name": "python",
   "nbconvert_exporter": "python",
   "pygments_lexer": "ipython3",
   "version": "3.8.8-final"
  },
  "orig_nbformat": 2,
  "kernelspec": {
   "name": "python3",
   "display_name": "Python 3.8.8 64-bit",
   "metadata": {
    "interpreter": {
     "hash": "1baa965d5efe3ac65b79dfc60c0d706280b1da80fedb7760faf2759126c4f253"
    }
   }
  }
 },
 "nbformat": 4,
 "nbformat_minor": 2,
 "cells": [
  {
   "source": [
    "# Loading models to make predictions"
   ],
   "cell_type": "markdown",
   "metadata": {}
  },
  {
   "cell_type": "code",
   "execution_count": 1,
   "metadata": {},
   "outputs": [],
   "source": [
    "import numpy as np\n",
    "from prettytable import PrettyTable\n",
    "from keras.models import load_model\n",
    "from keras.preprocessing import image"
   ]
  },
  {
   "cell_type": "code",
   "execution_count": 2,
   "metadata": {},
   "outputs": [],
   "source": [
    "# Methods to display test results\n",
    "\n",
    "def resultStore(file, pred, results):\n",
    "    results[3] = pred\n",
    "    pred = pred.lower() if pred != 'lead or rhythm' else 'lead' if 'lead' in file else 'rhythm'\n",
    "    if pred in file:\n",
    "        results[0] = 'PASS'\n",
    "        results[1] = results[1] + 1\n",
    "    else:\n",
    "        results[0] = 'FAIL'\n",
    "        results[2] = results[2] + 1\n",
    "    return results\n",
    "\n",
    "def resultStats(results):\n",
    "    total = results[1] + results[2]\n",
    "    p = round(results[1]*100/total, 2)\n",
    "    f = round(results[2]*100/total, 2)\n",
    "    return 'Pass: ' + str(p) + '% (' + str(results[1]) + '), Fail: ' + str(f) + '% (' + str(results[2]) + '), Total: ' + str(total)"
   ]
  },
  {
   "source": [
    "res = [135, 270]                                                    # default res used to train previous algorithms\n",
    "results = [\"\", 0, 0, \"\"]                                            # initialise blank results\n",
    "table = PrettyTable()                                               # create new pretty table\n",
    "table.field_names = [\"File\", \"Class\", \"Prediction\", \"Result\"]       # set headers for table\n",
    "testPath = './spectograms/All/testall/'                             # path to the test files\n",
    "model1 = load_model('1-model-clean-lr-100p.h5')                     # load trained model\n",
    "model2 = load_model('1-model-lead-rhythm-92.5p.h5')                 # load trained model\n"
   ],
   "cell_type": "code",
   "metadata": {},
   "execution_count": 3,
   "outputs": []
  },
  {
   "cell_type": "code",
   "execution_count": 4,
   "metadata": {
    "tags": []
   },
   "outputs": [],
   "source": [
    "# Clean VS Lead-or-Rhythm algorithm\n",
    "\n",
    "def clean_vs_lr(testPath, file, results):\n",
    "\n",
    "    loaded_model = model1\n",
    "    classes = {0: 'clean', 1: 'lead or rhythm'}\n",
    "\n",
    "    img = image.load_img(\n",
    "        testPath + '//' + file,\n",
    "        target_size = (res[0], res[1])\n",
    "    )\n",
    "\n",
    "    X = image.img_to_array(img)\n",
    "    X = np.expand_dims(X, axis=0)\n",
    "    images = np.vstack([X])\n",
    "    prediction = int(loaded_model.predict(images))\n",
    "\n",
    "    results = resultStore(file, classes[prediction], results)\n",
    "    return results"
   ]
  },
  {
   "cell_type": "code",
   "execution_count": 5,
   "metadata": {
    "tags": []
   },
   "outputs": [],
   "source": [
    "# Lead VS Rhythm algorithm\n",
    "\n",
    "def lead_vs_rhythm(testPath, file, results):\n",
    "\n",
    "    loaded_model = model2\n",
    "    classes = {0: 'lead', 1: 'rhythm'}\n",
    "\n",
    "    img = image.load_img(\n",
    "        testPath + '//' + file,\n",
    "        target_size = (res[0], res[1])\n",
    "    )\n",
    "\n",
    "    X = image.img_to_array(img)\n",
    "    X = np.expand_dims(X, axis=0)\n",
    "    images = np.vstack([X])\n",
    "    prediction = int(loaded_model.predict(images))\n",
    "    \n",
    "    results = resultStore(file, classes[prediction], results)\n",
    "    return results"
   ]
  },
  {
   "cell_type": "code",
   "execution_count": 6,
   "metadata": {
    "tags": [
     "outputPrepend"
    ]
   },
   "outputs": [
    {
     "output_type": "stream",
     "name": "stdout",
     "text": [
      " Pray For Villains                 | clean      | clean      | PASS     |\n| Riff Raff                         | clean      | clean      | PASS     |\n| Rock 'N' Roll                     | clean      | clean      | PASS     |\n| Sabbath Bloody Sabbath            | clean      | clean      | PASS     |\n| Smells Like Teen Spirit           | clean      | clean      | PASS     |\n| Soundcloud 1 -2                   | clean      | rhythm     | FAIL     |\n| Soundcloud 1                      | clean      | rhythm     | FAIL     |\n| Soundcloud 10                     | clean      | clean      | PASS     |\n| Soundcloud 2                      | clean      | rhythm     | FAIL     |\n| Soundcloud 3                      | clean      | rhythm     | FAIL     |\n| Soundcloud 4                      | clean      | clean      | PASS     |\n| Soundcloud 5                      | clean      | clean      | PASS     |\n| Soundcloud 6                      | clean      | clean      | PASS     |\n| Soundcloud 7                      | clean      | clean      | PASS     |\n| Soundcloud 8                      | clean      | clean      | PASS     |\n| Soundcloud 9                      | clean      | clean      | PASS     |\n| The Call Of Ktulu 2               | clean      | clean      | PASS     |\n| The Number Of The Beast 2         | clean      | clean      | PASS     |\n| The Pale King 2                   | clean      | clean      | PASS     |\n| The Call Of Ktulu                 | clean      | clean      | PASS     |\n| The Number Of The Beast           | clean      | clean      | PASS     |\n| The Pale King                     | clean      | clean      | PASS     |\n| You Shook Me All Night Long 2     | clean      | clean      | PASS     |\n| You Shook Me All Night Long 3     | clean      | clean      | PASS     |\n| You Shook Me All Night Long       | clean      | clean      | PASS     |\n| 2 Minutes To Midnight 2           | lead       | lead       | PASS     |\n| 2 Minutes To Midnight             | lead       | lead       | PASS     |\n| 8 Strings Low 2                   | lead       | lead       | PASS     |\n| 8 Strings Low                     | lead       | lead       | PASS     |\n| Audio 1                           | lead       | lead       | PASS     |\n| Audio 10                          | lead       | lead       | PASS     |\n| Audio 11                          | lead       | lead       | PASS     |\n| Audio 12                          | lead       | lead       | PASS     |\n| Audio 13                          | lead       | lead       | PASS     |\n| Audio 14                          | lead       | lead       | PASS     |\n| Audio 15                          | lead       | lead       | PASS     |\n| Audio 16                          | lead       | lead       | PASS     |\n| Audio 17                          | lead       | lead       | PASS     |\n| Audio 18                          | lead       | lead       | PASS     |\n| Audio 19                          | lead       | lead       | PASS     |\n| Audio 2                           | lead       | lead       | PASS     |\n| Audio 20                          | lead       | lead       | PASS     |\n| Audio 21                          | lead       | lead       | PASS     |\n| Audio 22                          | lead       | lead       | PASS     |\n| Audio 23                          | lead       | lead       | PASS     |\n| Audio 24                          | lead       | lead       | PASS     |\n| Audio 25                          | lead       | lead       | PASS     |\n| Audio 26                          | lead       | lead       | PASS     |\n| Audio 27                          | lead       | lead       | PASS     |\n| Audio 28                          | lead       | lead       | PASS     |\n| Audio 29                          | lead       | rhythm     | FAIL     |\n| Audio 3                           | lead       | lead       | PASS     |\n| Audio 30                          | lead       | lead       | PASS     |\n| Audio 31                          | lead       | lead       | PASS     |\n| Audio 32                          | lead       | lead       | PASS     |\n| Audio 33                          | lead       | lead       | PASS     |\n| Audio 34                          | lead       | lead       | PASS     |\n| Audio 35                          | lead       | lead       | PASS     |\n| Audio 36                          | lead       | lead       | PASS     |\n| Audio 37                          | lead       | lead       | PASS     |\n| Audio 38                          | lead       | lead       | PASS     |\n| Audio 39                          | lead       | lead       | PASS     |\n| Audio 4                           | lead       | lead       | PASS     |\n| Audio 40                          | lead       | lead       | PASS     |\n| Audio 41                          | lead       | lead       | PASS     |\n| Audio 42                          | lead       | lead       | PASS     |\n| Audio 43                          | lead       | lead       | PASS     |\n| Audio 44                          | lead       | lead       | PASS     |\n| Audio 45                          | lead       | lead       | PASS     |\n| Audio 46                          | lead       | lead       | PASS     |\n| Audio 47                          | lead       | lead       | PASS     |\n| Audio 48                          | lead       | lead       | PASS     |\n| Audio 49                          | lead       | lead       | PASS     |\n| Audio 5                           | lead       | lead       | PASS     |\n| Audio 50                          | lead       | lead       | PASS     |\n| Audio 51                          | lead       | lead       | PASS     |\n| Audio 52                          | lead       | lead       | PASS     |\n| Audio 53                          | lead       | lead       | PASS     |\n| Audio 54                          | lead       | lead       | PASS     |\n| Audio 55                          | lead       | lead       | PASS     |\n| Audio 56                          | lead       | lead       | PASS     |\n| Audio 57                          | lead       | lead       | PASS     |\n| Audio 58                          | lead       | lead       | PASS     |\n| Audio 59                          | lead       | lead       | PASS     |\n| Audio 6                           | lead       | lead       | PASS     |\n| Audio 60                          | lead       | lead       | PASS     |\n| Audio 7                           | lead       | lead       | PASS     |\n| Audio 8                           | lead       | lead       | PASS     |\n| Audio 9                           | lead       | lead       | PASS     |\n| Bloodline                         | lead       | lead       | PASS     |\n| Bloodline2                        | lead       | lead       | PASS     |\n| Chords 1 -2                       | lead       | lead       | PASS     |\n| Chords 2 -2                       | lead       | lead       | PASS     |\n| Chords 3 -2                       | lead       | lead       | PASS     |\n| Chords 1                          | lead       | lead       | PASS     |\n| Chords 2                          | lead       | lead       | PASS     |\n| Chords 3                          | lead       | lead       | PASS     |\n| Chords 4                          | lead       | lead       | PASS     |\n| Damage Inc 2 -2                   | lead       | lead       | PASS     |\n| Damage Inc 2                      | lead       | rhythm     | FAIL     |\n| Damage Inc.                       | lead       | lead       | PASS     |\n| Damage Inc. 2                     | lead       | lead       | PASS     |\n| Dry Guitar 1                      | lead       | lead       | PASS     |\n| Dry Guitar 2                      | lead       | lead       | PASS     |\n| Have A Drink On Me 2              | lead       | lead       | PASS     |\n| Have A Drink On Me                | lead       | lead       | PASS     |\n| Highway To Hell 2 -2              | lead       | lead       | PASS     |\n| Highway To Hell                   | lead       | lead       | PASS     |\n| HST                               | lead       | lead       | PASS     |\n| HST 2                             | lead       | lead       | PASS     |\n| Iron Man                          | lead       | lead       | PASS     |\n| Johnny B. Goode                   | lead       | lead       | PASS     |\n| Kickapoo                          | lead       | lead       | PASS     |\n| La Marseillaise                   | lead       | lead       | PASS     |\n| Lick 1 -2                         | lead       | lead       | PASS     |\n| Lick 1                            | lead       | lead       | PASS     |\n| Lick 2 -2                         | lead       | rhythm     | FAIL     |\n| Lick 2                            | lead       | lead       | PASS     |\n| Metal Crew                        | lead       | lead       | PASS     |\n| Mission Impossible                | lead       | lead       | PASS     |\n| Pray For Villains                 | lead       | lead       | PASS     |\n| Riff Raff                         | lead       | lead       | PASS     |\n| Rock 'N' Roll                     | lead       | lead       | PASS     |\n| Sabbath Bloody Sabbath            | lead       | lead       | PASS     |\n| Smells Like Teen Spirit           | lead       | lead       | PASS     |\n| Soundcloud 1 -2                   | lead       | lead       | PASS     |\n| Soundcloud 1                      | lead       | lead       | PASS     |\n| Soundcloud 10                     | lead       | lead       | PASS     |\n| Soundcloud 2                      | lead       | lead       | PASS     |\n| Soundcloud 3                      | lead       | lead       | PASS     |\n| Soundcloud 4                      | lead       | lead       | PASS     |\n| Soundcloud 5                      | lead       | lead       | PASS     |\n| Soundcloud 6                      | lead       | rhythm     | FAIL     |\n| Soundcloud 7                      | lead       | lead       | PASS     |\n| Soundcloud 8                      | lead       | lead       | PASS     |\n| Soundcloud 9                      | lead       | rhythm     | FAIL     |\n| The Call Of Ktulu 2               | lead       | rhythm     | FAIL     |\n| The Number Of The Beast 2         | lead       | lead       | PASS     |\n| The Pale King 2                   | lead       | lead       | PASS     |\n| The Call Of Ktulu                 | lead       | lead       | PASS     |\n| The Number Of The Beast           | lead       | lead       | PASS     |\n| The Pale King                     | lead       | lead       | PASS     |\n| You Shook Me All Night Long 2     | lead       | lead       | PASS     |\n| You Shook Me All Night Long 3     | lead       | lead       | PASS     |\n| You Shook Me All Night Long       | lead       | lead       | PASS     |\n| 2 Minutes To Midnight 2           | rhythm     | rhythm     | PASS     |\n| 2 Minutes To Midnight             | rhythm     | rhythm     | PASS     |\n| 8 Strings Low 2                   | rhythm     | lead       | FAIL     |\n| 8 Strings Low                     | rhythm     | lead       | FAIL     |\n| Audio 1                           | rhythm     | lead       | FAIL     |\n| Audio 10                          | rhythm     | lead       | FAIL     |\n| Audio 11                          | rhythm     | rhythm     | PASS     |\n| Audio 12                          | rhythm     | rhythm     | PASS     |\n| Audio 13                          | rhythm     | rhythm     | PASS     |\n| Audio 14                          | rhythm     | lead       | FAIL     |\n| Audio 15                          | rhythm     | rhythm     | PASS     |\n| Audio 16                          | rhythm     | rhythm     | PASS     |\n| Audio 17                          | rhythm     | rhythm     | PASS     |\n| Audio 18                          | rhythm     | lead       | FAIL     |\n| Audio 19                          | rhythm     | rhythm     | PASS     |\n| Audio 2                           | rhythm     | rhythm     | PASS     |\n| Audio 20                          | rhythm     | rhythm     | PASS     |\n| Audio 21                          | rhythm     | rhythm     | PASS     |\n| Audio 22                          | rhythm     | rhythm     | PASS     |\n| Audio 23                          | rhythm     | rhythm     | PASS     |\n| Audio 24                          | rhythm     | rhythm     | PASS     |\n| Audio 25                          | rhythm     | rhythm     | PASS     |\n| Audio 26                          | rhythm     | lead       | FAIL     |\n| Audio 27                          | rhythm     | rhythm     | PASS     |\n| Audio 28                          | rhythm     | rhythm     | PASS     |\n| Audio 29                          | rhythm     | rhythm     | PASS     |\n| Audio 3                           | rhythm     | rhythm     | PASS     |\n| Audio 30                          | rhythm     | lead       | FAIL     |\n| Audio 31                          | rhythm     | rhythm     | PASS     |\n| Audio 32                          | rhythm     | lead       | FAIL     |\n| Audio 33                          | rhythm     | rhythm     | PASS     |\n| Audio 34                          | rhythm     | rhythm     | PASS     |\n| Audio 35                          | rhythm     | rhythm     | PASS     |\n| Audio 36                          | rhythm     | rhythm     | PASS     |\n| Audio 37                          | rhythm     | rhythm     | PASS     |\n| Audio 38                          | rhythm     | lead       | FAIL     |\n| Audio 39                          | rhythm     | lead       | FAIL     |\n| Audio 4                           | rhythm     | lead       | FAIL     |\n| Audio 40                          | rhythm     | lead       | FAIL     |\n| Audio 41                          | rhythm     | rhythm     | PASS     |\n| Audio 42                          | rhythm     | lead       | FAIL     |\n| Audio 43                          | rhythm     | rhythm     | PASS     |\n| Audio 44                          | rhythm     | rhythm     | PASS     |\n| Audio 45                          | rhythm     | rhythm     | PASS     |\n| Audio 46                          | rhythm     | lead       | FAIL     |\n| Audio 47                          | rhythm     | rhythm     | PASS     |\n| Audio 48                          | rhythm     | rhythm     | PASS     |\n| Audio 49                          | rhythm     | lead       | FAIL     |\n| Audio 5                           | rhythm     | rhythm     | PASS     |\n| Audio 50                          | rhythm     | rhythm     | PASS     |\n| Audio 51                          | rhythm     | rhythm     | PASS     |\n| Audio 52                          | rhythm     | lead       | FAIL     |\n| Audio 53                          | rhythm     | rhythm     | PASS     |\n| Audio 54                          | rhythm     | rhythm     | PASS     |\n| Audio 55                          | rhythm     | rhythm     | PASS     |\n| Audio 56                          | rhythm     | rhythm     | PASS     |\n| Audio 57                          | rhythm     | rhythm     | PASS     |\n| Audio 58                          | rhythm     | rhythm     | PASS     |\n| Audio 59                          | rhythm     | rhythm     | PASS     |\n| Audio 6                           | rhythm     | rhythm     | PASS     |\n| Audio 60                          | rhythm     | lead       | FAIL     |\n| Audio 7                           | rhythm     | rhythm     | PASS     |\n| Audio 8                           | rhythm     | rhythm     | PASS     |\n| Audio 9                           | rhythm     | rhythm     | PASS     |\n| Bloodline                         | rhythm     | rhythm     | PASS     |\n| Bloodline2                        | rhythm     | rhythm     | PASS     |\n| Chords 1 -2                       | rhythm     | rhythm     | PASS     |\n| Chords 2 -2                       | rhythm     | rhythm     | PASS     |\n| Chords 3 -2                       | rhythm     | rhythm     | PASS     |\n| Chords 1                          | rhythm     | rhythm     | PASS     |\n| Chords 2                          | rhythm     | rhythm     | PASS     |\n| Chords 3                          | rhythm     | rhythm     | PASS     |\n| Chords 4                          | rhythm     | rhythm     | PASS     |\n| Damage Inc 2 -2                   | rhythm     | rhythm     | PASS     |\n| Damage Inc 2                      | rhythm     | rhythm     | PASS     |\n| Damage Inc.                       | rhythm     | rhythm     | PASS     |\n| Damage Inc. 2                     | rhythm     | rhythm     | PASS     |\n| Dry Guitar 1                      | rhythm     | lead       | FAIL     |\n| Dry Guitar 2                      | rhythm     | lead       | FAIL     |\n| Have A Drink On Me 2              | rhythm     | rhythm     | PASS     |\n| Have A Drink On Me                | rhythm     | rhythm     | PASS     |\n| Highway To Hell 2 -2              | rhythm     | rhythm     | PASS     |\n| Highway To Hell                   | rhythm     | rhythm     | PASS     |\n| HST                               | rhythm     | rhythm     | PASS     |\n| HST 2                             | rhythm     | rhythm     | PASS     |\n| Iron Man                          | rhythm     | rhythm     | PASS     |\n| Johnny B. Goode                   | rhythm     | rhythm     | PASS     |\n| Kickapoo                          | rhythm     | rhythm     | PASS     |\n| La Marseillaise                   | rhythm     | rhythm     | PASS     |\n| Lick 1 -2                         | rhythm     | rhythm     | PASS     |\n| Lick 1                            | rhythm     | rhythm     | PASS     |\n| Lick 2 -2                         | rhythm     | rhythm     | PASS     |\n| Lick 2                            | rhythm     | rhythm     | PASS     |\n| Metal Crew                        | rhythm     | rhythm     | PASS     |\n| Mission Impossible                | rhythm     | rhythm     | PASS     |\n| Pray For Villains                 | rhythm     | rhythm     | PASS     |\n| Riff Raff                         | rhythm     | rhythm     | PASS     |\n| Rock 'N' Roll                     | rhythm     | rhythm     | PASS     |\n| Sabbath Bloody Sabbath            | rhythm     | rhythm     | PASS     |\n| Smells Like Teen Spirit           | rhythm     | lead       | FAIL     |\n| Soundcloud 1 -2                   | rhythm     | lead       | FAIL     |\n| Soundcloud 1                      | rhythm     | lead       | FAIL     |\n| Soundcloud 10                     | rhythm     | rhythm     | PASS     |\n| Soundcloud 2                      | rhythm     | lead       | FAIL     |\n| Soundcloud 3                      | rhythm     | lead       | FAIL     |\n| Soundcloud 4                      | rhythm     | rhythm     | PASS     |\n| Soundcloud 5                      | rhythm     | rhythm     | PASS     |\n| Soundcloud 6                      | rhythm     | rhythm     | PASS     |\n| Soundcloud 7                      | rhythm     | rhythm     | PASS     |\n| Soundcloud 8                      | rhythm     | rhythm     | PASS     |\n| Soundcloud 9                      | rhythm     | rhythm     | PASS     |\n| The Call Of Ktulu 2               | rhythm     | rhythm     | PASS     |\n| The Number Of The Beast 2         | rhythm     | rhythm     | PASS     |\n| The Pale King 2                   | rhythm     | rhythm     | PASS     |\n| The Call Of Ktulu                 | rhythm     | rhythm     | PASS     |\n| The Number Of The Beast           | rhythm     | rhythm     | PASS     |\n| The Pale King                     | rhythm     | rhythm     | PASS     |\n| You Shook Me All Night Long 2     | rhythm     | rhythm     | PASS     |\n| You Shook Me All Night Long 3     | rhythm     | rhythm     | PASS     |\n| You Shook Me All Night Long       | rhythm     | rhythm     | PASS     |\n+-----------------------------------+------------+------------+----------+\n\nPass: 88.89% (320), Fail: 11.11% (40), Total: 360\n"
     ]
    }
   ],
   "source": [
    "for i in os.listdir(testPath):\n",
    "    clean_vs_lr(testPath, i, results)\n",
    "    \n",
    "    if results[3] == 'lead or rhythm':\n",
    "        if results[0] == \"PASS\":\n",
    "            results[1] = results[1]-1\n",
    "        else:\n",
    "            results[2] = results[2]-1\n",
    "        lead_vs_rhythm(testPath, i, results)\n",
    "\n",
    "    splt = i.split('_session_')\n",
    "    clss = splt[0]\n",
    "    fname = splt[1].replace('_', ' ')\n",
    "    table.add_row([fname[:-4] + \"    \", clss + \"    \", results[3], results[0] + \"    \"])\n",
    "\n",
    "table.align = 'l'\n",
    "print(table)\n",
    "print('\\n' + resultStats(results))"
   ]
  },
  {
   "cell_type": "code",
   "execution_count": null,
   "metadata": {},
   "outputs": [],
   "source": []
  }
 ]
}