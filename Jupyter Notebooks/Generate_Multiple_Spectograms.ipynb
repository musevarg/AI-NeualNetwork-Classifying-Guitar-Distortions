{
 "metadata": {
  "language_info": {
   "codemirror_mode": {
    "name": "ipython",
    "version": 3
   },
   "file_extension": ".py",
   "mimetype": "text/x-python",
   "name": "python",
   "nbconvert_exporter": "python",
   "pygments_lexer": "ipython3",
   "version": "3.8.8-final"
  },
  "orig_nbformat": 2,
  "kernelspec": {
   "name": "python388jvsc74a57bd01baa965d5efe3ac65b79dfc60c0d706280b1da80fedb7760faf2759126c4f253",
   "display_name": "Python 3.8.8 64-bit"
  },
  "metadata": {
   "interpreter": {
    "hash": "1baa965d5efe3ac65b79dfc60c0d706280b1da80fedb7760faf2759126c4f253"
   }
  }
 },
 "nbformat": 4,
 "nbformat_minor": 2,
 "cells": [
  {
   "cell_type": "code",
   "execution_count": 1,
   "metadata": {},
   "outputs": [],
   "source": [
    "# imports\n",
    "import numpy as np\n",
    "import matplotlib.pyplot as plt \n",
    "from glob import glob\n",
    "import librosa\n",
    "import librosa.display\n",
    "import IPython.display as ipd # needed to preview audio file\n",
    "import os"
   ]
  },
  {
   "cell_type": "code",
   "execution_count": 2,
   "metadata": {},
   "outputs": [],
   "source": [
    "# Mel Spectrogram (less white around)\n",
    "\n",
    "def mel_spectrogram(audio_files):\n",
    "\n",
    "    image_path = fullPath + 'spectrograms/'\n",
    "    try:\n",
    "        os.makedirs(image_path)\n",
    "    except FileExistsError as exception:\n",
    "        print('')\n",
    "\n",
    "    for audio in audio_files:\n",
    "        y = audio[0]\n",
    "        sr = audio[1]\n",
    "        file = audio[2]\n",
    "\n",
    "        S = librosa.feature.melspectrogram(y=y, sr=sr)\n",
    "        fig, ax = plt.subplots(figsize=(15,7.5))\n",
    "        S_dB = librosa.power_to_db(S, ref=np.max)\n",
    "        img = librosa.display.specshow(S_dB, sr=sr)\n",
    "\n",
    "        fig.savefig(image_path + file[:-4] + '.png', transparent=True)\n",
    "        plt.close(fig)"
   ]
  },
  {
   "cell_type": "code",
   "execution_count": 4,
   "metadata": {},
   "outputs": [
    {
     "output_type": "stream",
     "name": "stdout",
     "text": [
      "Loaded files from './audio-files/3. Melodies HML/3. Lead/1. 10-0-0/'\n",
      "Saved spectrograms.\n",
      "Loaded files from './audio-files/3. Melodies HML/3. Lead/2. 0-10-0/'\n",
      "Saved spectrograms.\n",
      "Loaded files from './audio-files/3. Melodies HML/3. Lead/3. 0-0-10/'\n",
      "Saved spectrograms.\n",
      "Loaded files from './audio-files/3. Melodies HML/3. Lead/4. 5-5-5/'\n",
      "Saved spectrograms.\n"
     ]
    }
   ],
   "source": [
    "# load audio\n",
    "pathAudio = \"./audio-files/3. Melodies HML/3. Lead/\"\n",
    "folders = os.listdir(pathAudio)\n",
    "#folder = folders[0]\n",
    "\n",
    "for f in folders:\n",
    "    #if f == folder:\n",
    "    #    print(f + ' (Current Folder)')\n",
    "    #else:\n",
    "    #    print(f)\n",
    "\n",
    "    fullPath = pathAudio + f + '/'\n",
    "    files = os.listdir(fullPath)\n",
    "    audio_files = []\n",
    "\n",
    "    for file in files:\n",
    "        if '.wav' in file:\n",
    "            temp = librosa.load(fullPath + file)\n",
    "            temp = list(temp)\n",
    "            temp.append(file)\n",
    "            temp = tuple(temp)\n",
    "            audio_files.append(temp)\n",
    "    \n",
    "    print('Loaded files from \\'' + fullPath + '\\'')\n",
    "    \n",
    "    mel_spectrogram(audio_files)\n",
    "\n",
    "    print('Saved spectrograms.')   \n"
   ]
  },
  {
   "source": [
    "# Mel Spectogram\n",
    "\n",
    "image_path = fullPath + 'spectograms/'\n",
    "try:\n",
    "    os.makedirs(image_path)\n",
    "except FileExistsError as exception:\n",
    "    print('')\n",
    "\n",
    "for audio in audio_files:\n",
    "    y = audio[0]\n",
    "    sr = audio[1]\n",
    "    file = audio[2]\n",
    "\n",
    "    S = librosa.feature.melspectrogram(y=y, sr=sr, n_mels=128, fmax=8000)\n",
    "    fig, ax = plt.subplots(figsize=(15,8))\n",
    "    S_dB = librosa.power_to_db(S, ref=np.max)\n",
    "    img = librosa.display.specshow(S_dB, x_axis='time', y_axis='mel', sr=sr, fmax=8000, ax=ax)\n",
    "    ax.axis('off')\n",
    "    fig.legend('')\n",
    "\n",
    "    fig.savefig(image_path + file[:-4] + '.png')\n",
    "    plt.close(fig)"
   ],
   "cell_type": "markdown",
   "metadata": {}
  },
  {
   "source": [
    "# use to keep only first 2 seconds of each track (2 seconds = 50000)\n",
    "\n",
    "limit = 125000\n",
    "image_path = fullPath + 'spectograms/'\n",
    "\n",
    "try:\n",
    "    os.makedirs(image_path)\n",
    "except FileExistsError as exception:\n",
    "    print('')\n",
    "\n",
    "for audio in audio_files:\n",
    "    lim = limit if limit != 0 else len(audio[0])\n",
    "\n",
    "    y = audio[0][:lim]\n",
    "    sr = audio[1]\n",
    "    file = audio[2]\n",
    "\n",
    "    S = librosa.feature.melspectrogram(y=y, sr=sr, n_mels=128, fmax=8000)\n",
    "    fig, ax = plt.subplots(figsize=(15,8))\n",
    "    S_dB = librosa.power_to_db(S, ref=np.max)\n",
    "    img = librosa.display.specshow(S_dB, x_axis='time', y_axis='mel', sr=sr, fmax=8000, ax=ax)\n",
    "    ax.axis('off')\n",
    "    fig.legend('')\n",
    "\n",
    "    fig.savefig(image_path + file[:-4] + '.png', transparent=True)\n",
    "    plt.close(fig)"
   ],
   "cell_type": "markdown",
   "metadata": {}
  },
  {
   "source": [
    "# Spectral Contrast (less white around)\n",
    "\n",
    "image_path = fullPath + 'spectograms/'\n",
    "try:\n",
    "    os.makedirs(image_path)\n",
    "except FileExistsError as exception:\n",
    "    print('')\n",
    "\n",
    "for audio in audio_files:\n",
    "    y = audio[0]\n",
    "    sr = audio[1]\n",
    "    file = audio[2]\n",
    "\n",
    "    S = np.abs(librosa.stft(y))\n",
    "    contrast = librosa.feature.spectral_contrast(S=S, sr=sr)\n",
    "\n",
    "    fig, ax = plt.subplots(figsize=(15,7.5))\n",
    "    img2 = librosa.display.specshow(contrast, x_axis='time', vmin=10, vmax=60)\n",
    "    cb = fig.colorbar(img2)\n",
    "    ax.set(ylabel='Frequency bands', title=file)\n",
    "\n",
    "    fig.savefig(image_path + file[:-4] + '.png', transparent=True)\n",
    "    plt.close(fig)"
   ],
   "cell_type": "markdown",
   "metadata": {}
  },
  {
   "source": [
    "# Chromagram\n",
    "\n",
    "image_path = fullPath + 'spectograms/'\n",
    "try:\n",
    "    os.makedirs(image_path)\n",
    "except FileExistsError as exception:\n",
    "    print('')\n",
    "\n",
    "for audio in audio_files:\n",
    "    y = audio[0]\n",
    "    sr = audio[1]\n",
    "    file = audio[2]\n",
    "\n",
    "    S = np.abs(librosa.stft(y, n_fft=4096))**2\n",
    "    chroma = librosa.feature.chroma_stft(S=S, sr=sr)\n",
    "    fig, ax = plt.subplots(figsize=(15,7.5))\n",
    "    img = librosa.display.specshow(chroma, y_axis='chroma', x_axis='time', ax=ax)\n",
    "    fig.colorbar(img, ax=ax)\n",
    "    ax.set(title=file)\n",
    "\n",
    "    fig.savefig(image_path + file[:-4] + '.png', transparent=True)\n",
    "    plt.close(fig)"
   ],
   "cell_type": "markdown",
   "metadata": {}
  },
  {
   "source": [
    "# Log Power Spectrogram\n",
    "# useless here\n",
    "\n",
    "image_path = fullPath + 'spectograms/'\n",
    "try:\n",
    "    os.makedirs(image_path)\n",
    "except FileExistsError as exception:\n",
    "    print('')\n",
    "\n",
    "for audio in audio_files:\n",
    "    y = audio[0]\n",
    "    sr = audio[1]\n",
    "    file = audio[2]\n",
    "\n",
    "    spec_bw = librosa.feature.spectral_bandwidth(y=y, sr=sr)\n",
    "\n",
    "    fig, ax = plt.subplots(figsize=(15,7.5))\n",
    "    times = librosa.times_like(spec_bw)\n",
    "    centroid = librosa.feature.spectral_centroid(S=S)\n",
    "    librosa.display.specshow(librosa.amplitude_to_db(S, ref=np.max), y_axis='log', x_axis='time', ax=ax)\n",
    "    ax.set(title=file)\n",
    "\n",
    "    fig.savefig(image_path + file[:-4] + '.png', transparent=True)\n",
    "    plt.close(fig)"
   ],
   "cell_type": "markdown",
   "metadata": {}
  },
  {
   "source": [
    "# Spectral Contrast\n",
    "\n",
    "image_path = fullPath + 'spectograms/'\n",
    "try:\n",
    "    os.makedirs(image_path)\n",
    "except FileExistsError as exception:\n",
    "    print('')\n",
    "\n",
    "for audio in audio_files:\n",
    "    y = audio[0]\n",
    "    sr = audio[1]\n",
    "    file = audio[2]\n",
    "\n",
    "    contrast = librosa.feature.spectral_contrast(S=S, sr=sr)\n",
    "\n",
    "    fig, ax = plt.subplots(figsize=(15,7.5))\n",
    "    img2 = librosa.display.specshow(contrast, x_axis='time', ax=ax)\n",
    "    fig.colorbar(img2, ax=[ax])\n",
    "    ax.set(ylabel='Frequency bands', title='Spectral contrast')\n",
    "\n",
    "    fig.savefig(image_path + file[:-4] + '.png', transparent=True)\n",
    "    plt.close(fig)"
   ],
   "cell_type": "markdown",
   "metadata": {}
  },
  {
   "cell_type": "code",
   "execution_count": null,
   "metadata": {},
   "outputs": [],
   "source": []
  }
 ]
}